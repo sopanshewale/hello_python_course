{
 "cells": [
  {
   "cell_type": "markdown",
   "metadata": {},
   "source": [
    "# Hello World - via Jupyter\n"
   ]
  },
  {
   "cell_type": "code",
   "execution_count": 3,
   "metadata": {},
   "outputs": [
    {
     "name": "stdout",
     "output_type": "stream",
     "text": [
      "Hello to Python via Jupyeter\n"
     ]
    }
   ],
   "source": [
    "print (\"Hello to Python via Jupyeter\")\n",
    "\n",
    "def say_two(s):\n",
    "    print (s)\n",
    "    print(s)\n",
    "    "
   ]
  },
  {
   "cell_type": "code",
   "execution_count": 5,
   "metadata": {},
   "outputs": [
    {
     "name": "stdout",
     "output_type": "stream",
     "text": [
      "Hello twice\n",
      "Hello twice\n"
     ]
    }
   ],
   "source": [
    "say_two(\"Hello twice\")"
   ]
  },
  {
   "cell_type": "code",
   "execution_count": 6,
   "metadata": {},
   "outputs": [
    {
     "data": {
      "image/png": "[encoded data removed]",
      "text/plain": [
       "<matplotlib.figure.Figure at 0x7f2b76cb5b38>"
      ]
     },
     "metadata": {},
     "output_type": "display_data"
    }
   ],
   "source": [
    "import re\n",
    "import matplotlib.pyplot as plt \n",
    "\n",
    "year = []\n",
    "finish_time=[]\n",
    "\n",
    "with open(\"100_meter.csv\", 'r') as f:\n",
    "    for line in f:\n",
    "        line = re.sub(r'\\s+', '', line)\n",
    "        records = line.split(',')\n",
    "        #print(records)\n",
    "        if records[0] != '' and records[0]!='Year':\n",
    "            year.append(int(records[0]))\n",
    "            finish_time.append(float(records[1]))\n",
    "#print(year)\n",
    "#print (finish_time)\n",
    "plt.bar(year, finish_time)\n",
    "plt.xlabel('Year')\n",
    "plt.ylabel('Time')\n",
    "plt.show()\n",
    "\n",
    "\n",
    "                               \n",
    "\n",
    "\n",
    "        "
   ]
  }
 ],
 "metadata": {
  "kernelspec": {
   "display_name": "Python 3",
   "language": "python",
   "name": "python3"
  },
  "language_info": {
   "codemirror_mode": {
    "name": "ipython",
    "version": 3
   },
   "file_extension": ".py",
   "mimetype": "text/x-python",
   "name": "python",
   "nbconvert_exporter": "python",
   "pygments_lexer": "ipython3",
   "version": "3.5.2"
  }
 },
 "nbformat": 4,
 "nbformat_minor": 2
}
